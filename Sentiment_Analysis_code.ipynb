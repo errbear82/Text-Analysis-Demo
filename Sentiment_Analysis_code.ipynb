{
 "cells": [
  {
   "cell_type": "code",
   "execution_count": null,
   "id": "treated-genome",
   "metadata": {},
   "outputs": [],
   "source": [
    "import nltk\n",
    "nltk.download('vader_lexicon')\n",
    "nltk.download('punkt')"
   ]
  },
  {
   "cell_type": "code",
   "execution_count": null,
   "id": "invisible-roberts",
   "metadata": {},
   "outputs": [],
   "source": [
    "import nltk\n",
    "tokenizer = nltk.data.load('tokenizers/punkt/english.pickle')\n",
    "sentences = tokenizer.tokenize(\"\"\"\"\"\") #insert text here"
   ]
  },
  {
   "cell_type": "code",
   "execution_count": null,
   "id": "downtown-broadcast",
   "metadata": {},
   "outputs": [],
   "source": [
    "from nltk.sentiment.vader import SentimentIntensityAnalyzer\n",
    "from nltk import sentiment\n",
    "from nltk import word_tokenize"
   ]
  },
  {
   "cell_type": "code",
   "execution_count": null,
   "id": "frozen-business",
   "metadata": {},
   "outputs": [],
   "source": [
    "analizador = SentimentIntensityAnalyzer\n",
    "from nltk import sentiment\n",
    "from nltk import word_tokenize"
   ]
  },
  {
   "cell_type": "code",
   "execution_count": null,
   "id": "stunning-jamaica",
   "metadata": {},
   "outputs": [],
   "source": [
    "analizador = SentimentIntensityAnalyzer()"
   ]
  },
  {
   "cell_type": "code",
   "execution_count": null,
   "id": "optional-watson",
   "metadata": {},
   "outputs": [],
   "source": [
    "for sentence in sentences:\n",
    "    scores = analizador.polarity_scores(sentence)\n",
    "    for key in scores:\n",
    "        print(sentence)\n",
    "        print(key, ': ', scores[key])\n",
    "        print()"
   ]
  },
  {
   "cell_type": "code",
   "execution_count": null,
   "id": "conservative-arena",
   "metadata": {},
   "outputs": [],
   "source": [
    "with open(\".csv\", \"w\") as f: #give your file a name\n",
    "    f.write(\"Sentence_Number\")\n",
    "    f.write(\"\\,\")\n",
    "    f.write(\"Negative\")\n",
    "    f.write(\"\\,\")\n",
    "    f.write(\"Neutral\")\n",
    "    f.write(\"\\,\")\n",
    "    f.write(\"Positive\")\n",
    "    f.write(\"\\,\")\n",
    "    f.write(\"\\n\")\n",
    "    for sentence in sentences:\n",
    "        scores = analizador.polarity_scores(sentence)\n",
    "        n = 0\n",
    "        f.write(str(n))\n",
    "        f.write(\"\\,\")\n",
    "        for key in scores:\n",
    "            f.write(str(scores[key]))\n",
    "            f.write(\"\\,\")\n",
    "        f.write(\"\\n\")\n",
    "        n = n + 1"
   ]
  }
 ],
 "metadata": {
  "kernelspec": {
   "display_name": "Python 3",
   "language": "python",
   "name": "python3"
  },
  "language_info": {
   "codemirror_mode": {
    "name": "ipython",
    "version": 3
   },
   "file_extension": ".py",
   "mimetype": "text/x-python",
   "name": "python",
   "nbconvert_exporter": "python",
   "pygments_lexer": "ipython3",
   "version": "3.8.2"
  }
 },
 "nbformat": 4,
 "nbformat_minor": 5
}
